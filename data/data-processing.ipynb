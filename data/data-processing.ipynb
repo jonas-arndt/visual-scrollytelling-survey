{
 "cells": [
  {
   "cell_type": "markdown",
   "id": "median-production",
   "metadata": {},
   "source": [
    "# Visual scrollytelling survey data processing"
   ]
  },
  {
   "cell_type": "markdown",
   "id": "transsexual-bullet",
   "metadata": {},
   "source": [
    "## Raw data from google spreadsheet"
   ]
  },
  {
   "cell_type": "code",
   "execution_count": 1,
   "id": "regulated-pickup",
   "metadata": {},
   "outputs": [
    {
     "name": "stdout",
     "output_type": "stream",
     "text": [
      "Wrote file ./pieces.json.\n",
      "Done.\n"
     ]
    }
   ],
   "source": [
    "import pandas as pd\n",
    "import json\n",
    "\n",
    "file_gids = {\n",
    "    'pieces': '2040950863',\n",
    "}\n",
    "\n",
    "spreadsheet_url = 'https://docs.google.com/spreadsheets/d/e/2PACX-1vTl8kMlG9HiKfszmanKS7rrP3ZWlVPK9nl3YadIWzNCvdoQpFn9SdswTa9msw_OZnMPrn5L3_ykyrK1/pub?output=csv'\n",
    "\n",
    "for filename, gid in file_gids.items():\n",
    "    df = pd.read_csv('%s&gid=%s' % (spreadsheet_url, gid))\n",
    "    data = df.to_dict('records')\n",
    "    \n",
    "    filepath = './%s.json' % filename\n",
    "    with open(filepath, 'w') as outfile:\n",
    "        json.dump(data, outfile, sort_keys=False, indent=4)\n",
    "        print('Wrote file %s.' % filepath)\n",
    "\n",
    "print('Done.')\n"
   ]
  },
  {
   "cell_type": "code",
   "execution_count": null,
   "id": "entertaining-prayer",
   "metadata": {},
   "outputs": [],
   "source": []
  }
 ],
 "metadata": {
  "kernelspec": {
   "display_name": "Python 3",
   "language": "python",
   "name": "python3"
  },
  "language_info": {
   "codemirror_mode": {
    "name": "ipython",
    "version": 3
   },
   "file_extension": ".py",
   "mimetype": "text/x-python",
   "name": "python",
   "nbconvert_exporter": "python",
   "pygments_lexer": "ipython3",
   "version": "3.9.2"
  }
 },
 "nbformat": 4,
 "nbformat_minor": 5
}
